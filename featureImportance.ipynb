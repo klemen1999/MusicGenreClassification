{
 "cells": [
  {
   "cell_type": "code",
   "execution_count": 1,
   "metadata": {},
   "outputs": [],
   "source": [
    "import pandas as pd\n",
    "import numpy as np\n",
    "import matplotlib.pyplot as plt\n",
    "from sklearn.model_selection import train_test_split\n",
    "from sklearn.metrics import accuracy_score, precision_score, recall_score, f1_score, confusion_matrix, ConfusionMatrixDisplay\n",
    "from sklearn.neighbors import KNeighborsClassifier\n",
    "from sklearn.ensemble import RandomForestClassifier, GradientBoostingClassifier\n",
    "from sklearn.linear_model import LogisticRegression\n",
    "from sklearn.svm import SVC\n",
    "from sklearn import preprocessing"
   ]
  },
  {
   "cell_type": "code",
   "execution_count": 26,
   "metadata": {},
   "outputs": [],
   "source": [
    "# Load data\n",
    "df = pd.read_pickle(\"rawFeaturesGTZAN.pkl\")\n",
    "\n",
    "# Split into train and test\n",
    "data = df.drop([\"path\", \"class\"], axis=1)\n",
    "scaler = preprocessing.StandardScaler()\n",
    "data[data.columns] = scaler.fit_transform(data[data.columns])\n",
    "\n",
    "X = data.to_numpy()\n",
    "y = df[\"class\"].to_numpy()\n",
    "X_train, X_test, y_train, y_test = train_test_split(X, y, test_size=0.25, random_state=42, shuffle=True, stratify=y)"
   ]
  },
  {
   "cell_type": "code",
   "execution_count": 27,
   "metadata": {},
   "outputs": [],
   "source": [
    "y_trainExpanded = np.expand_dims(y_train, axis=1)\n",
    "trainDataMat = np.concatenate((X_train, y_trainExpanded), axis=1)"
   ]
  },
  {
   "cell_type": "code",
   "execution_count": 28,
   "metadata": {},
   "outputs": [],
   "source": [
    "headers = list(data)+[\"class\"]\n",
    "trainData = pd.DataFrame(data=trainDataMat, columns=headers)\n",
    "trainData.to_csv(\"trainGTZAN.csv\")"
   ]
  },
  {
   "cell_type": "code",
   "execution_count": 18,
   "metadata": {},
   "outputs": [
    {
     "name": "stdout",
     "output_type": "stream",
     "text": [
      "['spectral-contrast7-mean', 'spectral-rolloff-std', 'mfcc1-mean', 'spectral-bandwith-mean', 'spectral-rolloff-mean', 'rmse-mean', 'spectral-contrast5-mean', 'spectral-centroid-std', 'rmse-std', 'spectral-centroid-mean', 'mfcc12-mean', 'spectral-bandwith-std', 'mfcc10-mean', 'mfcc4-mean', 'spectral-contrast4-mean', 'mfcc6-mean', 'mfcc8-mean', 'chroma7-mean', 'mfcc4-std', 'mfcc2-mean', 'zero-cross-rate-std', 'chroma5-mean', 'mfcc7-std', 'zero-cross-rate-mean', 'spectral-contrast3-mean', 'mfcc13-mean', 'mfcc6-std', 'mfcc14-mean', 'mfcc15-mean', 'mfcc5-std', 'chroma4-mean', 'chroma6-mean', 'spectral-contrast3-std', 'spectral-contrast6-mean']\n"
     ]
    }
   ],
   "source": [
    "featureImportance = []\n",
    "with open(\"featureImportance.csv\") as handle:\n",
    "    for line in handle:\n",
    "        temp = line.rstrip().split(\";\")\n",
    "        featureImportance.append([temp[0], float(temp[1])])\n",
    "score = np.array([float(x[1]) for x in featureImportance])\n",
    "\n",
    "THRESHOLD = np.mean(score)\n",
    "overThreshold = [x for x in featureImportance if x[1]>=THRESHOLD]\n",
    "overThresholdLabels = [x[0].rstrip().replace(\".\",\"-\") for x in overThreshold]\n",
    "print(overThresholdLabels)"
   ]
  },
  {
   "cell_type": "code",
   "execution_count": 7,
   "metadata": {},
   "outputs": [],
   "source": [
    "def evalRandomForest(X_train, X_test, y_train, n=100):\n",
    "    rf = RandomForestClassifier(n_estimators=n, random_state=42)\n",
    "    model = rf.fit(X_train, y_train)\n",
    "    y_pred = model.predict(X_test)\n",
    "    return y_pred\n",
    "    \n",
    "def getMetrics(y_pred, y_test, modelName):\n",
    "    acc = accuracy_score(y_pred, y_test)\n",
    "    precision = precision_score(y_test, y_pred, average='macro')\n",
    "    recall = recall_score(y_test, y_pred, average='macro')\n",
    "    f1 = f1_score(y_test, y_pred, average='macro')\n",
    "    print(f\"Model: {modelName}\")\n",
    "    print(f\"- CA: {round(acc,4)}\")\n",
    "    print(f\"- Precision: {round(precision,4)}\")\n",
    "    print(f\"- Recall: {round(recall,4)}\")\n",
    "    print(f\"- F1: {round(f1,4)}\")"
   ]
  },
  {
   "cell_type": "code",
   "execution_count": 25,
   "metadata": {},
   "outputs": [
    {
     "name": "stdout",
     "output_type": "stream",
     "text": [
      "Index(['path', 'rmse-mean', 'rmse-std', 'zero-cross-rate-mean',\n",
      "       'zero-cross-rate-std', 'tempo', 'spectral-centroid-mean',\n",
      "       'spectral-centroid-std', 'spectral-bandwith-mean',\n",
      "       'spectral-bandwith.std', 'spectral-rolloff-mean',\n",
      "       'spectral-rolloff-std', 'spectral-contrast1-mean',\n",
      "       'spectral-contrast1-std', 'spectral-contrast2-mean',\n",
      "       'spectral-contrast2-std', 'spectral-contrast3-mean',\n",
      "       'spectral-contrast3-std', 'spectral-contrast4-mean',\n",
      "       'spectral-contrast4-std', 'spectral-contrast5-mean',\n",
      "       'spectral-contrast5-std', 'spectral-contrast6-mean',\n",
      "       'spectral-contrast6-std', 'spectral-contrast7-mean',\n",
      "       'spectral-contrast7-std', 'chroma1-mean', 'chroma1-std', 'chroma2-mean',\n",
      "       'chroma2-std', 'chroma3-mean', 'chroma3-std', 'chroma4-mean',\n",
      "       'chroma4-std', 'chroma5-mean', 'chroma5-std', 'chroma6-mean',\n",
      "       'chroma6-std', 'chroma7-mean', 'chroma7-std', 'chroma8-mean',\n",
      "       'chroma8-std', 'chroma9-mean', 'chroma9-std', 'chroma10-mean',\n",
      "       'chroma10-std', 'chroma11-mean', 'chroma11-std', 'chroma12-mean',\n",
      "       'chroma12-std', 'mfcc1-mean', 'mfcc1-std', 'mfcc2-mean', 'mfcc2-std',\n",
      "       'mfcc3-mean', 'mfcc3-std', 'mfcc4-mean', 'mfcc4-std', 'mfcc5-mean',\n",
      "       'mfcc5-std', 'mfcc6-mean', 'mfcc6-std', 'mfcc7-mean', 'mfcc7-std',\n",
      "       'mfcc8-mean', 'mfcc8-std', 'mfcc9-mean', 'mfcc9-std', 'mfcc10-mean',\n",
      "       'mfcc10-std', 'mfcc11-mean', 'mfcc11-std', 'mfcc12-mean', 'mfcc12-std',\n",
      "       'mfcc13-mean', 'mfcc13-std', 'mfcc14-mean', 'mfcc14-std', 'mfcc15-mean',\n",
      "       'mfcc15-std', 'mfcc16-mean', 'mfcc16-std', 'mfcc17-mean', 'mfcc17-std',\n",
      "       'mfcc18-mean', 'mfcc18-std', 'mfcc19-mean', 'mfcc19-std', 'mfcc20-mean',\n",
      "       'mfcc20-std', 'class'],\n",
      "      dtype='object')\n"
     ]
    }
   ],
   "source": [
    "# dataOverThreshold = data.drop(labels=overThresholdLabels, axis=1)"
   ]
  }
 ],
 "metadata": {
  "interpreter": {
   "hash": "b5843a13e7131a14c3c0e364f0390d6592a995e3082c3f83420ac4385eeb2370"
  },
  "kernelspec": {
   "display_name": "Python 3.9.0 64-bit",
   "language": "python",
   "name": "python3"
  },
  "language_info": {
   "codemirror_mode": {
    "name": "ipython",
    "version": 3
   },
   "file_extension": ".py",
   "mimetype": "text/x-python",
   "name": "python",
   "nbconvert_exporter": "python",
   "pygments_lexer": "ipython3",
   "version": "3.9.5"
  },
  "orig_nbformat": 4
 },
 "nbformat": 4,
 "nbformat_minor": 2
}
