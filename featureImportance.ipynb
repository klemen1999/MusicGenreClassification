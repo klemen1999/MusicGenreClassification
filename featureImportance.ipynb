{
 "cells": [
  {
   "cell_type": "code",
   "execution_count": 9,
   "metadata": {},
   "outputs": [],
   "source": [
    "import pandas as pd\n",
    "import numpy as np\n",
    "import matplotlib.pyplot as plt\n",
    "from sklearn.model_selection import train_test_split\n",
    "from sklearn.metrics import accuracy_score, precision_score, recall_score, f1_score, confusion_matrix, ConfusionMatrixDisplay\n",
    "from sklearn.neighbors import KNeighborsClassifier\n",
    "from sklearn.ensemble import RandomForestClassifier, GradientBoostingClassifier\n",
    "from sklearn.linear_model import LogisticRegression\n",
    "from sklearn.svm import SVC\n",
    "from sklearn import preprocessing"
   ]
  },
  {
   "cell_type": "code",
   "execution_count": 9,
   "metadata": {},
   "outputs": [],
   "source": [
    "# Load data\n",
    "df = pd.read_pickle(\"rawFeaturesGTZAN.pkl\")\n",
    "\n",
    "# Split into train and test\n",
    "data = df.drop([\"path\", \"class\"], axis=1)\n",
    "scaler = preprocessing.StandardScaler()\n",
    "data[data.columns] = scaler.fit_transform(data[data.columns])\n",
    "\n",
    "X = data.to_numpy()\n",
    "y = df[\"class\"].to_numpy()\n",
    "X_train, X_test, y_train, y_test = train_test_split(X, y, test_size=0.25, random_state=42, shuffle=True, stratify=y)"
   ]
  },
  {
   "cell_type": "code",
   "execution_count": 24,
   "metadata": {},
   "outputs": [],
   "source": [
    "y_trainExpanded = np.expand_dims(y_train, axis=1)\n",
    "trainDataMat = np.concatenate((X_train, y_trainExpanded), axis=1)"
   ]
  },
  {
   "cell_type": "code",
   "execution_count": 26,
   "metadata": {},
   "outputs": [],
   "source": [
    "headers = list(data)+[\"class\"]\n",
    "trainData = pd.DataFrame(data=trainDataMat, columns=headers)\n",
    "trainData.to_csv(\"trainGTZAN.csv\")"
   ]
  },
  {
   "cell_type": "code",
   "execution_count": 22,
   "metadata": {},
   "outputs": [
    {
     "name": "stdout",
     "output_type": "stream",
     "text": [
      "['spectral.contrast7.mean', 'spectral.rolloff.std', 'mfcc1.mean', 'spectral.bandwith.mean', 'spectral.rolloff.mean', 'rmse.mean', 'spectral.contrast5.mean', 'spectral.centroid.std', 'rmse.std', 'spectral.centroid.mean', 'mfcc12.mean', 'spectral.bandwith.std', 'mfcc10.mean', 'mfcc4.mean', 'spectral.contrast4.mean', 'mfcc6.mean', 'mfcc8.mean', 'chroma7.mean', 'mfcc4.std', 'mfcc2.mean', 'zero.cross.rate.std', 'chroma5.mean', 'mfcc7.std', 'zero.cross.rate.mean', 'spectral.contrast3.mean', 'mfcc13.mean', 'mfcc6.std', 'mfcc14.mean', 'mfcc15.mean', 'mfcc5.std', 'chroma4.mean', 'chroma6.mean', 'spectral.contrast3.std', 'spectral.contrast6.mean']\n"
     ]
    }
   ],
   "source": [
    "featureImportance = []\n",
    "with open(\"featureImportance.csv\") as handle:\n",
    "    for line in handle:\n",
    "        temp = line.rstrip().split(\";\")\n",
    "        featureImportance.append([temp[0], float(temp[1])])\n",
    "score = np.array([float(x[1]) for x in featureImportance])\n",
    "\n",
    "THRESHOLD = np.mean(score)\n",
    "overThreshold = [x for x in featureImportance if x[1]>=THRESHOLD]\n",
    "overThresholdLabels = [x[0] for x in overThreshold]"
   ]
  }
 ],
 "metadata": {
  "interpreter": {
   "hash": "b5843a13e7131a14c3c0e364f0390d6592a995e3082c3f83420ac4385eeb2370"
  },
  "kernelspec": {
   "display_name": "Python 3.9.0 64-bit",
   "language": "python",
   "name": "python3"
  },
  "language_info": {
   "codemirror_mode": {
    "name": "ipython",
    "version": 3
   },
   "file_extension": ".py",
   "mimetype": "text/x-python",
   "name": "python",
   "nbconvert_exporter": "python",
   "pygments_lexer": "ipython3",
   "version": "3.9.0"
  },
  "orig_nbformat": 4
 },
 "nbformat": 4,
 "nbformat_minor": 2
}
