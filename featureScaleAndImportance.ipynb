{
 "cells": [
  {
   "cell_type": "code",
   "execution_count": 2,
   "metadata": {},
   "outputs": [],
   "source": [
    "import pandas as pd\n",
    "import numpy as np\n",
    "import matplotlib.pyplot as plt\n",
    "from sklearn.model_selection import train_test_split\n",
    "from sklearn.metrics import accuracy_score, precision_score, recall_score, f1_score, confusion_matrix, ConfusionMatrixDisplay\n",
    "from sklearn.neighbors import KNeighborsClassifier\n",
    "from sklearn.ensemble import RandomForestClassifier, GradientBoostingClassifier\n",
    "from sklearn.linear_model import LogisticRegression\n",
    "from sklearn.svm import SVC\n",
    "from sklearn import preprocessing"
   ]
  },
  {
   "cell_type": "code",
   "execution_count": 3,
   "metadata": {},
   "outputs": [],
   "source": [
    "# Load data\n",
    "df = pd.read_pickle(\"./GTZAN/rawFeaturesGTZAN.pkl\")\n",
    "\n",
    "# Split into train and test\n",
    "data = df.drop([\"path\", \"class\"], axis=1)\n",
    "\n",
    "X = data.to_numpy()\n",
    "y = df[\"class\"].to_numpy()\n",
    "X_train, X_test, y_train, y_test = train_test_split(X, y, test_size=0.25, random_state=42, shuffle=True, stratify=y)\n",
    "\n",
    "# Get validation set to test parameters for traditional methods on it\n",
    "X_train, X_val, y_train, y_val = train_test_split(X_train, y_train, test_size=0.25, random_state=42, shuffle=True, stratify=y_train)"
   ]
  },
  {
   "cell_type": "markdown",
   "metadata": {},
   "source": [
    "Scaling features to standard Gauss distribution (mean=0, variance=1)"
   ]
  },
  {
   "cell_type": "code",
   "execution_count": 4,
   "metadata": {},
   "outputs": [],
   "source": [
    "gaussScaler = preprocessing.PowerTransformer(method='yeo-johnson', standardize=True).fit(X_train)\n",
    "X_train_scaled = gaussScaler.transform(X_train)"
   ]
  },
  {
   "cell_type": "code",
   "execution_count": 5,
   "metadata": {},
   "outputs": [
    {
     "data": {
      "image/png": "[encoded data removed]",
      "text/plain": [
       "<Figure size 432x288 with 2 Axes>"
      ]
     },
     "metadata": {
      "needs_background": "light"
     },
     "output_type": "display_data"
    }
   ],
   "source": [
    "plt.subplot(1,2,1)\n",
    "plt.hist(X_train[:,1])\n",
    "plt.title(\"Before scaling\")\n",
    "plt.subplot(1,2,2)\n",
    "plt.hist(X_train_scaled[:,1])\n",
    "plt.title(\"After scaling\")\n",
    "plt.show()"
   ]
  },
  {
   "cell_type": "code",
   "execution_count": 6,
   "metadata": {},
   "outputs": [],
   "source": [
    "y_trainExpanded = np.expand_dims(y_train, axis=1)\n",
    "trainDataMat = np.concatenate((X_train_scaled, y_trainExpanded), axis=1)"
   ]
  },
  {
   "cell_type": "code",
   "execution_count": 7,
   "metadata": {},
   "outputs": [],
   "source": [
    "headers = list(data)+[\"class\"]\n",
    "trainData = pd.DataFrame(data=trainDataMat, columns=headers)\n",
    "trainData.to_csv(\"./GTZAN/trainGTZAN.csv\", index=False)"
   ]
  },
  {
   "cell_type": "markdown",
   "metadata": {},
   "source": [
    "Getting subset of most important features"
   ]
  },
  {
   "cell_type": "code",
   "execution_count": 8,
   "metadata": {},
   "outputs": [
    {
     "name": "stdout",
     "output_type": "stream",
     "text": [
      "Current threshold 0.03784272953195986\n",
      "Features over threshold ['spectral-contrast7-mean', 'spectral-contrast5-mean', 'spectral-bandwith-mean', 'spectral-rolloff-mean', 'zero-cross-rate-std', 'spectral-contrast4-mean', 'rmse-mean', 'spectral-centroid-std', 'spectral-centroid-mean', 'rmse-std', 'spectral-rolloff-std', 'spectral-contrast3-mean', 'mfcc1-mean', 'zero-cross-rate-mean', 'mfcc4-mean', 'spectral-contrast5-std', 'mfcc7-std', 'spectral-bandwith-std', 'spectral-contrast3-std', 'mfcc2-mean', 'chroma7-mean', 'mfcc4-std', 'mfcc9-mean', 'spectral-contrast4-std', 'mfcc6-mean', 'mfcc5-std', 'mfcc7-mean', 'mfcc13-mean', 'mfcc6-std', 'spectral-contrast2-std', 'mfcc10-mean', 'mfcc3-mean', 'chroma5-mean', 'mfcc12-mean', 'mfcc8-mean', 'spectral-contrast6-mean', 'chroma6-mean', 'mfcc20-std']\n"
     ]
    }
   ],
   "source": [
    "featureImportance = []\n",
    "with open(\"featureImportance.csv\") as handle:\n",
    "    for line in handle:\n",
    "        temp = line.rstrip().split(\";\")\n",
    "        featureImportance.append([temp[0], float(temp[1])])\n",
    "score = np.array([float(x[1]) for x in featureImportance])\n",
    "\n",
    "THRESHOLD = np.mean(score)\n",
    "print(\"Current threshold\",THRESHOLD)\n",
    "overThreshold = [x for x in featureImportance if x[1]>=THRESHOLD]\n",
    "overThresholdLabels = [x[0].rstrip().replace(\".\",\"-\") for x in overThreshold]\n",
    "print(\"Features over threshold\",overThresholdLabels)"
   ]
  },
  {
   "cell_type": "code",
   "execution_count": 9,
   "metadata": {},
   "outputs": [],
   "source": [
    "def evalRandomForest(X_train, X_test, y_train, n=100):\n",
    "    rf = RandomForestClassifier(n_estimators=n, random_state=42)\n",
    "    model = rf.fit(X_train, y_train)\n",
    "    y_pred = model.predict(X_test)\n",
    "    return y_pred"
   ]
  },
  {
   "cell_type": "code",
   "execution_count": 10,
   "metadata": {},
   "outputs": [
    {
     "name": "stdout",
     "output_type": "stream",
     "text": [
      "Best F1 0.6568694014586185\n",
      "Best subset ['spectral-contrast7-mean', 'spectral-contrast5-mean', 'spectral-bandwith-mean', 'spectral-rolloff-mean', 'zero-cross-rate-std', 'spectral-contrast4-mean', 'rmse-mean', 'spectral-centroid-std', 'spectral-centroid-mean', 'rmse-std', 'spectral-rolloff-std', 'spectral-contrast3-mean', 'mfcc1-mean', 'zero-cross-rate-mean', 'mfcc4-mean', 'spectral-contrast5-std', 'mfcc7-std', 'spectral-bandwith-std', 'spectral-contrast3-std', 'mfcc2-mean', 'chroma7-mean', 'mfcc4-std', 'mfcc9-mean', 'spectral-contrast4-std', 'mfcc6-mean', 'mfcc5-std', 'mfcc7-mean', 'mfcc13-mean', 'mfcc6-std', 'spectral-contrast2-std', 'mfcc10-mean', 'mfcc3-mean', 'chroma5-mean', 'mfcc12-mean', 'mfcc8-mean', 'spectral-contrast6-mean', 'chroma6-mean', 'mfcc20-std', 'mfcc17-mean', 'chroma4-mean', 'chroma9-mean', 'mfcc5-mean', 'mfcc15-mean', 'chroma8-mean', 'chroma12-mean', 'mfcc19-std', 'chroma2-mean', 'chroma1-std', 'mfcc13-std', 'mfcc2-std', 'spectral-contrast2-mean', 'mfcc8-std', 'chroma10-mean', 'mfcc1-std', 'mfcc9-std', 'mfcc11-mean', 'chroma11-std', 'mfcc10-std', 'mfcc11-std', 'mfcc12-std', 'mfcc18-std', 'chroma11-mean', 'chroma1-mean', 'mfcc3-std', 'chroma10-std', 'chroma8-std', 'chroma3-std', 'chroma3-mean', 'mfcc15-std', 'spectral-contrast6-std', 'chroma6-std', 'mfcc14-std', 'mfcc14-mean', 'mfcc17-std', 'chroma4-std', 'mfcc16-std', 'chroma7-std', 'mfcc16-mean', 'chroma9-std', 'spectral-contrast7-std', 'chroma5-std', 'tempo', 'mfcc19-mean', 'chroma12-std', 'spectral-contrast1-std', 'spectral-contrast1-mean', 'mfcc20-mean', 'chroma2-std', 'mfcc18-mean']\n",
      "Length of features in subset 89\n"
     ]
    }
   ],
   "source": [
    "featureSorted = [x[0] for x in featureImportance]\n",
    "\n",
    "currentFeatures = []\n",
    "bestF1 = None\n",
    "bestFeatureSet = None\n",
    "\n",
    "for feature in featureSorted:\n",
    "    currentFeatures.append(feature)\n",
    "    currData = data[currentFeatures]\n",
    "    currX = currData.to_numpy()\n",
    "    currY = df[\"class\"].to_numpy()\n",
    "    \n",
    "    currX_train, currX_test, currY_train, currY_test = train_test_split(currX, currY, test_size=0.25, random_state=42, shuffle=True, stratify=currY)\n",
    "    # Get validation set to test parameters for traditional methods on it\n",
    "    currX_train, currX_val, currY_train, currY_val = train_test_split(currX_train, currY_train, test_size=0.25, random_state=42, shuffle=True, stratify=currY_train)\n",
    "\n",
    "    currY_pred = evalRandomForest(currX_train, currX_val, currY_train)\n",
    "    currF1 = f1_score(currY_val, currY_pred, average='macro')\n",
    "    \n",
    "    if bestF1 == None:\n",
    "        bestF1 = currF1\n",
    "        bestFeatureSet = currentFeatures[:]\n",
    "    elif currF1 > bestF1:\n",
    "        bestF1 = currF1\n",
    "        bestFeatureSet = currentFeatures[:]\n",
    "\n",
    "    \n",
    "print(\"Best F1\", bestF1)\n",
    "print(\"Best subset\", bestFeatureSet)\n",
    "print(\"Length of features in subset\", len(bestFeatureSet))"
   ]
  }
 ],
 "metadata": {
  "interpreter": {
   "hash": "b5843a13e7131a14c3c0e364f0390d6592a995e3082c3f83420ac4385eeb2370"
  },
  "kernelspec": {
   "display_name": "Python 3.9.0 64-bit",
   "language": "python",
   "name": "python3"
  },
  "language_info": {
   "codemirror_mode": {
    "name": "ipython",
    "version": 3
   },
   "file_extension": ".py",
   "mimetype": "text/x-python",
   "name": "python",
   "nbconvert_exporter": "python",
   "pygments_lexer": "ipython3",
   "version": "3.9.0"
  },
  "orig_nbformat": 4
 },
 "nbformat": 4,
 "nbformat_minor": 2
}
